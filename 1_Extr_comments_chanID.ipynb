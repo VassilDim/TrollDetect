{
 "cells": [
  {
   "cell_type": "markdown",
   "id": "ad04cd82",
   "metadata": {},
   "source": [
    "# 1: Extract Video Comments"
   ]
  },
  {
   "cell_type": "markdown",
   "id": "5d598369",
   "metadata": {},
   "source": [
    "<div style=\"text-align: right\"> <b>MODULE 1</b></div>\n",
    "<div style=\"text-align: right\"> <b>Authors:</b></div>\n",
    "<div style=\"text-align: right\"> Vassil Dimitrov</div>\n",
    "<div style=\"text-align: right\"> Sergiy Chepiga</div>\n",
    "<div style=\"text-align: right\"> Parsa Kamali</div>\n",
    "<div style=\"text-align: right\"> <b>Date:</b> 2023-09-01 </div>\n",
    "\n",
    "---\n",
    "\n",
    "This first module selects a video by identifying a video ID and extracts all the comments and comment replies with associated user names and user channel IDs. The user names and user channel IDs will subsequently be used for network analysis\n",
    "\n",
    "## Load libraries"
   ]
  },
  {
   "cell_type": "code",
   "execution_count": 1,
   "id": "39a24c27",
   "metadata": {},
   "outputs": [],
   "source": [
    "from googleapiclient.discovery import build\n",
    "import pandas as pd"
   ]
  },
  {
   "cell_type": "markdown",
   "id": "ba442f6d",
   "metadata": {},
   "source": [
    "## Prep\n",
    "\n",
    "YouTube Data API v3 was activated and a project was created in order to obtain an API key. This was done for **Public** information and there are certain restrictions that apply. *This is the reason why the channel IDs were also obtained for network analysis*."
   ]
  },
  {
   "cell_type": "markdown",
   "id": "934029e5",
   "metadata": {},
   "source": [
    "### Define parameters for API"
   ]
  },
  {
   "cell_type": "code",
   "execution_count": 2,
   "id": "8e1a6a50",
   "metadata": {},
   "outputs": [],
   "source": [
    "API_KEY = '!!!!yourAPIkey!!!!'\n",
    "\n",
    "# Create a YouTube API client\n",
    "youtube = build('youtube', 'v3', developerKey=API_KEY)\n",
    "\n",
    "# Video ID for the video you're interested in\n",
    "video_id = 'Et7l3Fjsjao'"
   ]
  },
  {
   "cell_type": "markdown",
   "id": "a569dffd",
   "metadata": {},
   "source": [
    "## Extract comments and user data\n",
    "\n",
    "For each comment, user name and user channelID is also extracted. The same is applied to comment replies. Iteration over all pages was performed in order to extract most comments.\n",
    ">Note that a maximum of 100 comments and their replies are extracted here by setting the parameter `maxResults = 100`."
   ]
  },
  {
   "cell_type": "code",
   "execution_count": 26,
   "id": "6bdf2f13",
   "metadata": {},
   "outputs": [],
   "source": [
    "# Extract comments:\n",
    "next_page_token = None\n",
    "\n",
    "# Prep data for dataframe:\n",
    "comments = []\n",
    "\n",
    "while True:\n",
    "    # Fetch comments for video\n",
    "    comments_response = youtube.commentThreads().list(\n",
    "        part='snippet,replies', \n",
    "        videoId=video_id,\n",
    "        maxResults=100,\n",
    "        pageToken=next_page_token if next_page_token else ''\n",
    "    ).execute()\n",
    "\n",
    "    # Iterate over items to extract info:\n",
    "    for comment_item in comments_response['items']:\n",
    "        comment = comment_item['snippet']['topLevelComment']['snippet']\n",
    "        comment_id = comment_item['id']\n",
    "        user = comment['authorDisplayName']\n",
    "        user_channel_id = comment['authorChannelId']['value'] if 'authorChannelId' in comment else 'not available'\n",
    "        comment_text = comment['textOriginal']\n",
    "        comments.append ({\n",
    "            'comment_id' : comment_id,\n",
    "            'user' : user,\n",
    "            'comment_text' : comment_text,\n",
    "            'user_channel_id' : user_channel_id\n",
    "\n",
    "        })\n",
    "        \n",
    "        # Fetch replies if they exist\n",
    "        replies = comment_item.get('replies', {}).get('comments', [])\n",
    "        for reply in replies:\n",
    "            reply_id = reply['id']\n",
    "            reply_user = reply.get('authorDisplayName', 'Unknown')\n",
    "            reply_user_channel_id = reply['snippet']['authorChannelId']['value'] if 'authorChannelId' in reply['snippet'] else 'Not available'\n",
    "            reply_text = reply['textOriginal'] if 'textOriginal' in reply else 'Not text available' # Use 'textOriginal' for full reply text\n",
    "            comments.append({\n",
    "                'comment_id': reply_id,\n",
    "                'user': reply_user,\n",
    "                'comment_text': reply_text,\n",
    "                'user_channel_id' : reply_user_channel_id\n",
    "            })\n",
    "            \n",
    "    # Check if there are more pages of comments\n",
    "    next_page_token = comments_response.get('nextPageToken')\n",
    "    if not next_page_token:\n",
    "        break\n",
    "\n",
    "# Create dataframe:\n",
    "df = pd.DataFrame(comments)"
   ]
  },
  {
   "cell_type": "markdown",
   "id": "e48f1bf4",
   "metadata": {},
   "source": [
    "## Save in a csv file"
   ]
  },
  {
   "cell_type": "code",
   "execution_count": 35,
   "id": "a22b6293",
   "metadata": {},
   "outputs": [],
   "source": [
    "df.to_csv('Et7l3Fjsjao_100_20230901.csv')"
   ]
  },
  {
   "cell_type": "markdown",
   "id": "9014c423",
   "metadata": {},
   "source": [
    "---\n",
    "<div style=\"text-align: right\"> <b>MODULE 1</b></div>\n",
    "<div style=\"text-align: right\"> <b>Date END:</b> 2023-09-01 </div>"
   ]
  }
 ],
 "metadata": {
  "kernelspec": {
   "display_name": "youtube_scrape",
   "language": "python",
   "name": "youtube"
  },
  "language_info": {
   "codemirror_mode": {
    "name": "ipython",
    "version": 3
   },
   "file_extension": ".py",
   "mimetype": "text/x-python",
   "name": "python",
   "nbconvert_exporter": "python",
   "pygments_lexer": "ipython3",
   "version": "3.11.4"
  }
 },
 "nbformat": 4,
 "nbformat_minor": 5
}
